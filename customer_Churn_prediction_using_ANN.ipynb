{
 "cells": [
  {
   "cell_type": "code",
   "execution_count": 1,
   "metadata": {
    "colab": {},
    "colab_type": "code",
    "id": "6S-uvYsveLYf"
   },
   "outputs": [],
   "source": [
    "import numpy as np\n",
    "import pandas as pd\n",
    "import matplotlib.pyplot as plt"
   ]
  },
  {
   "cell_type": "code",
   "execution_count": 2,
   "metadata": {
    "colab": {},
    "colab_type": "code",
    "id": "p1OOOq1lePeO"
   },
   "outputs": [],
   "source": [
    "# Importing the datasets"
   ]
  },
  {
   "cell_type": "code",
   "execution_count": 3,
   "metadata": {
    "colab": {},
    "colab_type": "code",
    "id": "HukpDMlyeTlW"
   },
   "outputs": [],
   "source": [
    "dataset = pd.read_csv(\"Churn_Modelling.csv\")"
   ]
  },
  {
   "cell_type": "code",
   "execution_count": 4,
   "metadata": {
    "colab": {
     "base_uri": "https://localhost:8080/",
     "height": 391
    },
    "colab_type": "code",
    "id": "gnxr3vzkeWnR",
    "outputId": "62427550-084c-42bc-b21f-80ebe41be2dd"
   },
   "outputs": [
    {
     "name": "stdout",
     "output_type": "stream",
     "text": [
      "<class 'pandas.core.frame.DataFrame'>\n",
      "RangeIndex: 10000 entries, 0 to 9999\n",
      "Data columns (total 14 columns):\n",
      " #   Column           Non-Null Count  Dtype  \n",
      "---  ------           --------------  -----  \n",
      " 0   RowNumber        10000 non-null  int64  \n",
      " 1   CustomerId       10000 non-null  int64  \n",
      " 2   Surname          10000 non-null  object \n",
      " 3   CreditScore      10000 non-null  int64  \n",
      " 4   Geography        10000 non-null  object \n",
      " 5   Gender           10000 non-null  object \n",
      " 6   Age              10000 non-null  int64  \n",
      " 7   Tenure           10000 non-null  int64  \n",
      " 8   Balance          10000 non-null  float64\n",
      " 9   NumOfProducts    10000 non-null  int64  \n",
      " 10  HasCrCard        10000 non-null  int64  \n",
      " 11  IsActiveMember   10000 non-null  int64  \n",
      " 12  EstimatedSalary  10000 non-null  float64\n",
      " 13  Exited           10000 non-null  int64  \n",
      "dtypes: float64(2), int64(9), object(3)\n",
      "memory usage: 1.1+ MB\n"
     ]
    },
    {
     "data": {
      "text/plain": [
       "(10000, 14)"
      ]
     },
     "execution_count": 4,
     "metadata": {},
     "output_type": "execute_result"
    }
   ],
   "source": [
    "dataset.info()\n",
    "dataset.shape"
   ]
  },
  {
   "cell_type": "code",
   "execution_count": 5,
   "metadata": {
    "colab": {
     "base_uri": "https://localhost:8080/",
     "height": 224
    },
    "colab_type": "code",
    "id": "CJ5vIfTTeauC",
    "outputId": "df20d85e-dcac-4235-a181-2864fe8b1b7f"
   },
   "outputs": [
    {
     "data": {
      "text/html": [
       "<div>\n",
       "<style scoped>\n",
       "    .dataframe tbody tr th:only-of-type {\n",
       "        vertical-align: middle;\n",
       "    }\n",
       "\n",
       "    .dataframe tbody tr th {\n",
       "        vertical-align: top;\n",
       "    }\n",
       "\n",
       "    .dataframe thead th {\n",
       "        text-align: right;\n",
       "    }\n",
       "</style>\n",
       "<table border=\"1\" class=\"dataframe\">\n",
       "  <thead>\n",
       "    <tr style=\"text-align: right;\">\n",
       "      <th></th>\n",
       "      <th>RowNumber</th>\n",
       "      <th>CustomerId</th>\n",
       "      <th>Surname</th>\n",
       "      <th>CreditScore</th>\n",
       "      <th>Geography</th>\n",
       "      <th>Gender</th>\n",
       "      <th>Age</th>\n",
       "      <th>Tenure</th>\n",
       "      <th>Balance</th>\n",
       "      <th>NumOfProducts</th>\n",
       "      <th>HasCrCard</th>\n",
       "      <th>IsActiveMember</th>\n",
       "      <th>EstimatedSalary</th>\n",
       "      <th>Exited</th>\n",
       "    </tr>\n",
       "  </thead>\n",
       "  <tbody>\n",
       "    <tr>\n",
       "      <th>0</th>\n",
       "      <td>1</td>\n",
       "      <td>15634602</td>\n",
       "      <td>Hargrave</td>\n",
       "      <td>619</td>\n",
       "      <td>France</td>\n",
       "      <td>Female</td>\n",
       "      <td>42</td>\n",
       "      <td>2</td>\n",
       "      <td>0.00</td>\n",
       "      <td>1</td>\n",
       "      <td>1</td>\n",
       "      <td>1</td>\n",
       "      <td>101348.88</td>\n",
       "      <td>1</td>\n",
       "    </tr>\n",
       "    <tr>\n",
       "      <th>1</th>\n",
       "      <td>2</td>\n",
       "      <td>15647311</td>\n",
       "      <td>Hill</td>\n",
       "      <td>608</td>\n",
       "      <td>Spain</td>\n",
       "      <td>Female</td>\n",
       "      <td>41</td>\n",
       "      <td>1</td>\n",
       "      <td>83807.86</td>\n",
       "      <td>1</td>\n",
       "      <td>0</td>\n",
       "      <td>1</td>\n",
       "      <td>112542.58</td>\n",
       "      <td>0</td>\n",
       "    </tr>\n",
       "    <tr>\n",
       "      <th>2</th>\n",
       "      <td>3</td>\n",
       "      <td>15619304</td>\n",
       "      <td>Onio</td>\n",
       "      <td>502</td>\n",
       "      <td>France</td>\n",
       "      <td>Female</td>\n",
       "      <td>42</td>\n",
       "      <td>8</td>\n",
       "      <td>159660.80</td>\n",
       "      <td>3</td>\n",
       "      <td>1</td>\n",
       "      <td>0</td>\n",
       "      <td>113931.57</td>\n",
       "      <td>1</td>\n",
       "    </tr>\n",
       "    <tr>\n",
       "      <th>3</th>\n",
       "      <td>4</td>\n",
       "      <td>15701354</td>\n",
       "      <td>Boni</td>\n",
       "      <td>699</td>\n",
       "      <td>France</td>\n",
       "      <td>Female</td>\n",
       "      <td>39</td>\n",
       "      <td>1</td>\n",
       "      <td>0.00</td>\n",
       "      <td>2</td>\n",
       "      <td>0</td>\n",
       "      <td>0</td>\n",
       "      <td>93826.63</td>\n",
       "      <td>0</td>\n",
       "    </tr>\n",
       "    <tr>\n",
       "      <th>4</th>\n",
       "      <td>5</td>\n",
       "      <td>15737888</td>\n",
       "      <td>Mitchell</td>\n",
       "      <td>850</td>\n",
       "      <td>Spain</td>\n",
       "      <td>Female</td>\n",
       "      <td>43</td>\n",
       "      <td>2</td>\n",
       "      <td>125510.82</td>\n",
       "      <td>1</td>\n",
       "      <td>1</td>\n",
       "      <td>1</td>\n",
       "      <td>79084.10</td>\n",
       "      <td>0</td>\n",
       "    </tr>\n",
       "  </tbody>\n",
       "</table>\n",
       "</div>"
      ],
      "text/plain": [
       "   RowNumber  CustomerId   Surname  CreditScore Geography  Gender  Age  \\\n",
       "0          1    15634602  Hargrave          619    France  Female   42   \n",
       "1          2    15647311      Hill          608     Spain  Female   41   \n",
       "2          3    15619304      Onio          502    France  Female   42   \n",
       "3          4    15701354      Boni          699    France  Female   39   \n",
       "4          5    15737888  Mitchell          850     Spain  Female   43   \n",
       "\n",
       "   Tenure    Balance  NumOfProducts  HasCrCard  IsActiveMember  \\\n",
       "0       2       0.00              1          1               1   \n",
       "1       1   83807.86              1          0               1   \n",
       "2       8  159660.80              3          1               0   \n",
       "3       1       0.00              2          0               0   \n",
       "4       2  125510.82              1          1               1   \n",
       "\n",
       "   EstimatedSalary  Exited  \n",
       "0        101348.88       1  \n",
       "1        112542.58       0  \n",
       "2        113931.57       1  \n",
       "3         93826.63       0  \n",
       "4         79084.10       0  "
      ]
     },
     "execution_count": 5,
     "metadata": {},
     "output_type": "execute_result"
    }
   ],
   "source": [
    "dataset.head()"
   ]
  },
  {
   "cell_type": "code",
   "execution_count": 6,
   "metadata": {
    "colab": {},
    "colab_type": "code",
    "id": "Na0Snzyuegm2"
   },
   "outputs": [],
   "source": [
    "# Since RowNumber,CustomerId And Surname doesn't provide much information on predicting the customer churning behaviour in a bank\n",
    "# So, we remove those columns in our dataset\n"
   ]
  },
  {
   "cell_type": "code",
   "execution_count": 7,
   "metadata": {
    "colab": {},
    "colab_type": "code",
    "id": "C8TsYXVGfLyh"
   },
   "outputs": [],
   "source": [
    "X = dataset.iloc[:,3:13]\n",
    "y = dataset.iloc[:,13]"
   ]
  },
  {
   "cell_type": "code",
   "execution_count": 8,
   "metadata": {
    "colab": {
     "base_uri": "https://localhost:8080/",
     "height": 34
    },
    "colab_type": "code",
    "id": "TSxZUUtIfWmf",
    "outputId": "363b59ee-5975-4cf0-fd9e-635a4d74a28b"
   },
   "outputs": [
    {
     "data": {
      "text/plain": [
       "(10000, 10)"
      ]
     },
     "execution_count": 8,
     "metadata": {},
     "output_type": "execute_result"
    }
   ],
   "source": [
    "X.shape"
   ]
  },
  {
   "cell_type": "code",
   "execution_count": 9,
   "metadata": {
    "colab": {},
    "colab_type": "code",
    "id": "9QUzoAW3fZrK"
   },
   "outputs": [],
   "source": [
    "# Printing the  feature values of our dataset"
   ]
  },
  {
   "cell_type": "code",
   "execution_count": 10,
   "metadata": {
    "colab": {
     "base_uri": "https://localhost:8080/",
     "height": 419
    },
    "colab_type": "code",
    "id": "8mYAXX5A4yQj",
    "outputId": "d670a8dc-568f-4c26-8c2a-af029d7a8c10"
   },
   "outputs": [
    {
     "data": {
      "text/html": [
       "<div>\n",
       "<style scoped>\n",
       "    .dataframe tbody tr th:only-of-type {\n",
       "        vertical-align: middle;\n",
       "    }\n",
       "\n",
       "    .dataframe tbody tr th {\n",
       "        vertical-align: top;\n",
       "    }\n",
       "\n",
       "    .dataframe thead th {\n",
       "        text-align: right;\n",
       "    }\n",
       "</style>\n",
       "<table border=\"1\" class=\"dataframe\">\n",
       "  <thead>\n",
       "    <tr style=\"text-align: right;\">\n",
       "      <th></th>\n",
       "      <th>CreditScore</th>\n",
       "      <th>Geography</th>\n",
       "      <th>Gender</th>\n",
       "      <th>Age</th>\n",
       "      <th>Tenure</th>\n",
       "      <th>Balance</th>\n",
       "      <th>NumOfProducts</th>\n",
       "      <th>HasCrCard</th>\n",
       "      <th>IsActiveMember</th>\n",
       "      <th>EstimatedSalary</th>\n",
       "    </tr>\n",
       "  </thead>\n",
       "  <tbody>\n",
       "    <tr>\n",
       "      <th>0</th>\n",
       "      <td>619</td>\n",
       "      <td>France</td>\n",
       "      <td>Female</td>\n",
       "      <td>42</td>\n",
       "      <td>2</td>\n",
       "      <td>0.00</td>\n",
       "      <td>1</td>\n",
       "      <td>1</td>\n",
       "      <td>1</td>\n",
       "      <td>101348.88</td>\n",
       "    </tr>\n",
       "    <tr>\n",
       "      <th>1</th>\n",
       "      <td>608</td>\n",
       "      <td>Spain</td>\n",
       "      <td>Female</td>\n",
       "      <td>41</td>\n",
       "      <td>1</td>\n",
       "      <td>83807.86</td>\n",
       "      <td>1</td>\n",
       "      <td>0</td>\n",
       "      <td>1</td>\n",
       "      <td>112542.58</td>\n",
       "    </tr>\n",
       "    <tr>\n",
       "      <th>2</th>\n",
       "      <td>502</td>\n",
       "      <td>France</td>\n",
       "      <td>Female</td>\n",
       "      <td>42</td>\n",
       "      <td>8</td>\n",
       "      <td>159660.80</td>\n",
       "      <td>3</td>\n",
       "      <td>1</td>\n",
       "      <td>0</td>\n",
       "      <td>113931.57</td>\n",
       "    </tr>\n",
       "    <tr>\n",
       "      <th>3</th>\n",
       "      <td>699</td>\n",
       "      <td>France</td>\n",
       "      <td>Female</td>\n",
       "      <td>39</td>\n",
       "      <td>1</td>\n",
       "      <td>0.00</td>\n",
       "      <td>2</td>\n",
       "      <td>0</td>\n",
       "      <td>0</td>\n",
       "      <td>93826.63</td>\n",
       "    </tr>\n",
       "    <tr>\n",
       "      <th>4</th>\n",
       "      <td>850</td>\n",
       "      <td>Spain</td>\n",
       "      <td>Female</td>\n",
       "      <td>43</td>\n",
       "      <td>2</td>\n",
       "      <td>125510.82</td>\n",
       "      <td>1</td>\n",
       "      <td>1</td>\n",
       "      <td>1</td>\n",
       "      <td>79084.10</td>\n",
       "    </tr>\n",
       "    <tr>\n",
       "      <th>...</th>\n",
       "      <td>...</td>\n",
       "      <td>...</td>\n",
       "      <td>...</td>\n",
       "      <td>...</td>\n",
       "      <td>...</td>\n",
       "      <td>...</td>\n",
       "      <td>...</td>\n",
       "      <td>...</td>\n",
       "      <td>...</td>\n",
       "      <td>...</td>\n",
       "    </tr>\n",
       "    <tr>\n",
       "      <th>9995</th>\n",
       "      <td>771</td>\n",
       "      <td>France</td>\n",
       "      <td>Male</td>\n",
       "      <td>39</td>\n",
       "      <td>5</td>\n",
       "      <td>0.00</td>\n",
       "      <td>2</td>\n",
       "      <td>1</td>\n",
       "      <td>0</td>\n",
       "      <td>96270.64</td>\n",
       "    </tr>\n",
       "    <tr>\n",
       "      <th>9996</th>\n",
       "      <td>516</td>\n",
       "      <td>France</td>\n",
       "      <td>Male</td>\n",
       "      <td>35</td>\n",
       "      <td>10</td>\n",
       "      <td>57369.61</td>\n",
       "      <td>1</td>\n",
       "      <td>1</td>\n",
       "      <td>1</td>\n",
       "      <td>101699.77</td>\n",
       "    </tr>\n",
       "    <tr>\n",
       "      <th>9997</th>\n",
       "      <td>709</td>\n",
       "      <td>France</td>\n",
       "      <td>Female</td>\n",
       "      <td>36</td>\n",
       "      <td>7</td>\n",
       "      <td>0.00</td>\n",
       "      <td>1</td>\n",
       "      <td>0</td>\n",
       "      <td>1</td>\n",
       "      <td>42085.58</td>\n",
       "    </tr>\n",
       "    <tr>\n",
       "      <th>9998</th>\n",
       "      <td>772</td>\n",
       "      <td>Germany</td>\n",
       "      <td>Male</td>\n",
       "      <td>42</td>\n",
       "      <td>3</td>\n",
       "      <td>75075.31</td>\n",
       "      <td>2</td>\n",
       "      <td>1</td>\n",
       "      <td>0</td>\n",
       "      <td>92888.52</td>\n",
       "    </tr>\n",
       "    <tr>\n",
       "      <th>9999</th>\n",
       "      <td>792</td>\n",
       "      <td>France</td>\n",
       "      <td>Female</td>\n",
       "      <td>28</td>\n",
       "      <td>4</td>\n",
       "      <td>130142.79</td>\n",
       "      <td>1</td>\n",
       "      <td>1</td>\n",
       "      <td>0</td>\n",
       "      <td>38190.78</td>\n",
       "    </tr>\n",
       "  </tbody>\n",
       "</table>\n",
       "<p>10000 rows × 10 columns</p>\n",
       "</div>"
      ],
      "text/plain": [
       "      CreditScore Geography  Gender  Age  Tenure    Balance  NumOfProducts  \\\n",
       "0             619    France  Female   42       2       0.00              1   \n",
       "1             608     Spain  Female   41       1   83807.86              1   \n",
       "2             502    France  Female   42       8  159660.80              3   \n",
       "3             699    France  Female   39       1       0.00              2   \n",
       "4             850     Spain  Female   43       2  125510.82              1   \n",
       "...           ...       ...     ...  ...     ...        ...            ...   \n",
       "9995          771    France    Male   39       5       0.00              2   \n",
       "9996          516    France    Male   35      10   57369.61              1   \n",
       "9997          709    France  Female   36       7       0.00              1   \n",
       "9998          772   Germany    Male   42       3   75075.31              2   \n",
       "9999          792    France  Female   28       4  130142.79              1   \n",
       "\n",
       "      HasCrCard  IsActiveMember  EstimatedSalary  \n",
       "0             1               1        101348.88  \n",
       "1             0               1        112542.58  \n",
       "2             1               0        113931.57  \n",
       "3             0               0         93826.63  \n",
       "4             1               1         79084.10  \n",
       "...         ...             ...              ...  \n",
       "9995          1               0         96270.64  \n",
       "9996          1               1        101699.77  \n",
       "9997          0               1         42085.58  \n",
       "9998          1               0         92888.52  \n",
       "9999          1               0         38190.78  \n",
       "\n",
       "[10000 rows x 10 columns]"
      ]
     },
     "execution_count": 10,
     "metadata": {},
     "output_type": "execute_result"
    }
   ],
   "source": [
    "X"
   ]
  },
  {
   "cell_type": "code",
   "execution_count": 11,
   "metadata": {
    "colab": {},
    "colab_type": "code",
    "id": "7_v4WrWW4zV7"
   },
   "outputs": [],
   "source": [
    "# Printing the labels of our datasets"
   ]
  },
  {
   "cell_type": "code",
   "execution_count": 12,
   "metadata": {
    "colab": {
     "base_uri": "https://localhost:8080/",
     "height": 221
    },
    "colab_type": "code",
    "id": "0Ca4BdeJ5NTw",
    "outputId": "3728197d-ca96-4f9c-af36-8e8625ae7741"
   },
   "outputs": [
    {
     "data": {
      "text/plain": [
       "0       1\n",
       "1       0\n",
       "2       1\n",
       "3       0\n",
       "4       0\n",
       "       ..\n",
       "9995    0\n",
       "9996    0\n",
       "9997    1\n",
       "9998    1\n",
       "9999    0\n",
       "Name: Exited, Length: 10000, dtype: int64"
      ]
     },
     "execution_count": 12,
     "metadata": {},
     "output_type": "execute_result"
    }
   ],
   "source": [
    "y"
   ]
  },
  {
   "cell_type": "code",
   "execution_count": 13,
   "metadata": {
    "colab": {},
    "colab_type": "code",
    "id": "8rmaGyBA5NvL"
   },
   "outputs": [],
   "source": [
    "# By observing the feature values ,we know that country and gender are categorical values in the dataset and \n",
    "#  while building our machine learning models the categorical varaibale and values are not allowed. So we need to encode those categorical data"
   ]
  },
  {
   "cell_type": "code",
   "execution_count": 14,
   "metadata": {
    "colab": {},
    "colab_type": "code",
    "id": "YFhtgFXU5uOk"
   },
   "outputs": [],
   "source": [
    "# Encoding Categorical Data"
   ]
  },
  {
   "cell_type": "code",
   "execution_count": 15,
   "metadata": {
    "colab": {},
    "colab_type": "code",
    "id": "MgG21MU-5xMD"
   },
   "outputs": [],
   "source": [
    "from sklearn.preprocessing import LabelEncoder,OneHotEncoder"
   ]
  },
  {
   "cell_type": "code",
   "execution_count": 16,
   "metadata": {
    "colab": {},
    "colab_type": "code",
    "id": "iBzd0l3K6CDz"
   },
   "outputs": [],
   "source": [
    "label_X_1 = LabelEncoder()\n",
    "X['Geography'] = label_X_1.fit_transform(X['Geography'])\n",
    "label_X_2 = LabelEncoder()\n",
    "X['Gender'] = label_X_2.fit_transform(X['Gender'])\n"
   ]
  },
  {
   "cell_type": "code",
   "execution_count": 17,
   "metadata": {
    "colab": {},
    "colab_type": "code",
    "id": "gbN0M1Yme4Vk"
   },
   "outputs": [],
   "source": [
    "# 0 stans for France , 2 stands for Spain and 1 stands for germany\n",
    "# 0 stands for Female and 1 stands for Male"
   ]
  },
  {
   "cell_type": "code",
   "execution_count": 18,
   "metadata": {
    "colab": {
     "base_uri": "https://localhost:8080/",
     "height": 419
    },
    "colab_type": "code",
    "id": "CFOyUsCKe0oE",
    "outputId": "270466d6-d2de-42b2-942f-069e4b230a7e"
   },
   "outputs": [
    {
     "data": {
      "text/html": [
       "<div>\n",
       "<style scoped>\n",
       "    .dataframe tbody tr th:only-of-type {\n",
       "        vertical-align: middle;\n",
       "    }\n",
       "\n",
       "    .dataframe tbody tr th {\n",
       "        vertical-align: top;\n",
       "    }\n",
       "\n",
       "    .dataframe thead th {\n",
       "        text-align: right;\n",
       "    }\n",
       "</style>\n",
       "<table border=\"1\" class=\"dataframe\">\n",
       "  <thead>\n",
       "    <tr style=\"text-align: right;\">\n",
       "      <th></th>\n",
       "      <th>CreditScore</th>\n",
       "      <th>Geography</th>\n",
       "      <th>Gender</th>\n",
       "      <th>Age</th>\n",
       "      <th>Tenure</th>\n",
       "      <th>Balance</th>\n",
       "      <th>NumOfProducts</th>\n",
       "      <th>HasCrCard</th>\n",
       "      <th>IsActiveMember</th>\n",
       "      <th>EstimatedSalary</th>\n",
       "    </tr>\n",
       "  </thead>\n",
       "  <tbody>\n",
       "    <tr>\n",
       "      <th>0</th>\n",
       "      <td>619</td>\n",
       "      <td>0</td>\n",
       "      <td>0</td>\n",
       "      <td>42</td>\n",
       "      <td>2</td>\n",
       "      <td>0.00</td>\n",
       "      <td>1</td>\n",
       "      <td>1</td>\n",
       "      <td>1</td>\n",
       "      <td>101348.88</td>\n",
       "    </tr>\n",
       "    <tr>\n",
       "      <th>1</th>\n",
       "      <td>608</td>\n",
       "      <td>2</td>\n",
       "      <td>0</td>\n",
       "      <td>41</td>\n",
       "      <td>1</td>\n",
       "      <td>83807.86</td>\n",
       "      <td>1</td>\n",
       "      <td>0</td>\n",
       "      <td>1</td>\n",
       "      <td>112542.58</td>\n",
       "    </tr>\n",
       "    <tr>\n",
       "      <th>2</th>\n",
       "      <td>502</td>\n",
       "      <td>0</td>\n",
       "      <td>0</td>\n",
       "      <td>42</td>\n",
       "      <td>8</td>\n",
       "      <td>159660.80</td>\n",
       "      <td>3</td>\n",
       "      <td>1</td>\n",
       "      <td>0</td>\n",
       "      <td>113931.57</td>\n",
       "    </tr>\n",
       "    <tr>\n",
       "      <th>3</th>\n",
       "      <td>699</td>\n",
       "      <td>0</td>\n",
       "      <td>0</td>\n",
       "      <td>39</td>\n",
       "      <td>1</td>\n",
       "      <td>0.00</td>\n",
       "      <td>2</td>\n",
       "      <td>0</td>\n",
       "      <td>0</td>\n",
       "      <td>93826.63</td>\n",
       "    </tr>\n",
       "    <tr>\n",
       "      <th>4</th>\n",
       "      <td>850</td>\n",
       "      <td>2</td>\n",
       "      <td>0</td>\n",
       "      <td>43</td>\n",
       "      <td>2</td>\n",
       "      <td>125510.82</td>\n",
       "      <td>1</td>\n",
       "      <td>1</td>\n",
       "      <td>1</td>\n",
       "      <td>79084.10</td>\n",
       "    </tr>\n",
       "    <tr>\n",
       "      <th>...</th>\n",
       "      <td>...</td>\n",
       "      <td>...</td>\n",
       "      <td>...</td>\n",
       "      <td>...</td>\n",
       "      <td>...</td>\n",
       "      <td>...</td>\n",
       "      <td>...</td>\n",
       "      <td>...</td>\n",
       "      <td>...</td>\n",
       "      <td>...</td>\n",
       "    </tr>\n",
       "    <tr>\n",
       "      <th>9995</th>\n",
       "      <td>771</td>\n",
       "      <td>0</td>\n",
       "      <td>1</td>\n",
       "      <td>39</td>\n",
       "      <td>5</td>\n",
       "      <td>0.00</td>\n",
       "      <td>2</td>\n",
       "      <td>1</td>\n",
       "      <td>0</td>\n",
       "      <td>96270.64</td>\n",
       "    </tr>\n",
       "    <tr>\n",
       "      <th>9996</th>\n",
       "      <td>516</td>\n",
       "      <td>0</td>\n",
       "      <td>1</td>\n",
       "      <td>35</td>\n",
       "      <td>10</td>\n",
       "      <td>57369.61</td>\n",
       "      <td>1</td>\n",
       "      <td>1</td>\n",
       "      <td>1</td>\n",
       "      <td>101699.77</td>\n",
       "    </tr>\n",
       "    <tr>\n",
       "      <th>9997</th>\n",
       "      <td>709</td>\n",
       "      <td>0</td>\n",
       "      <td>0</td>\n",
       "      <td>36</td>\n",
       "      <td>7</td>\n",
       "      <td>0.00</td>\n",
       "      <td>1</td>\n",
       "      <td>0</td>\n",
       "      <td>1</td>\n",
       "      <td>42085.58</td>\n",
       "    </tr>\n",
       "    <tr>\n",
       "      <th>9998</th>\n",
       "      <td>772</td>\n",
       "      <td>1</td>\n",
       "      <td>1</td>\n",
       "      <td>42</td>\n",
       "      <td>3</td>\n",
       "      <td>75075.31</td>\n",
       "      <td>2</td>\n",
       "      <td>1</td>\n",
       "      <td>0</td>\n",
       "      <td>92888.52</td>\n",
       "    </tr>\n",
       "    <tr>\n",
       "      <th>9999</th>\n",
       "      <td>792</td>\n",
       "      <td>0</td>\n",
       "      <td>0</td>\n",
       "      <td>28</td>\n",
       "      <td>4</td>\n",
       "      <td>130142.79</td>\n",
       "      <td>1</td>\n",
       "      <td>1</td>\n",
       "      <td>0</td>\n",
       "      <td>38190.78</td>\n",
       "    </tr>\n",
       "  </tbody>\n",
       "</table>\n",
       "<p>10000 rows × 10 columns</p>\n",
       "</div>"
      ],
      "text/plain": [
       "      CreditScore  Geography  Gender  Age  Tenure    Balance  NumOfProducts  \\\n",
       "0             619          0       0   42       2       0.00              1   \n",
       "1             608          2       0   41       1   83807.86              1   \n",
       "2             502          0       0   42       8  159660.80              3   \n",
       "3             699          0       0   39       1       0.00              2   \n",
       "4             850          2       0   43       2  125510.82              1   \n",
       "...           ...        ...     ...  ...     ...        ...            ...   \n",
       "9995          771          0       1   39       5       0.00              2   \n",
       "9996          516          0       1   35      10   57369.61              1   \n",
       "9997          709          0       0   36       7       0.00              1   \n",
       "9998          772          1       1   42       3   75075.31              2   \n",
       "9999          792          0       0   28       4  130142.79              1   \n",
       "\n",
       "      HasCrCard  IsActiveMember  EstimatedSalary  \n",
       "0             1               1        101348.88  \n",
       "1             0               1        112542.58  \n",
       "2             1               0        113931.57  \n",
       "3             0               0         93826.63  \n",
       "4             1               1         79084.10  \n",
       "...         ...             ...              ...  \n",
       "9995          1               0         96270.64  \n",
       "9996          1               1        101699.77  \n",
       "9997          0               1         42085.58  \n",
       "9998          1               0         92888.52  \n",
       "9999          1               0         38190.78  \n",
       "\n",
       "[10000 rows x 10 columns]"
      ]
     },
     "execution_count": 18,
     "metadata": {},
     "output_type": "execute_result"
    }
   ],
   "source": [
    "X"
   ]
  },
  {
   "cell_type": "code",
   "execution_count": 19,
   "metadata": {
    "colab": {
     "base_uri": "https://localhost:8080/",
     "height": 34
    },
    "colab_type": "code",
    "id": "ocjCeJvo7Itm",
    "outputId": "21014f2d-a92f-44e8-91f4-d30da0da6668"
   },
   "outputs": [
    {
     "data": {
      "text/plain": [
       "(10000,)"
      ]
     },
     "execution_count": 19,
     "metadata": {},
     "output_type": "execute_result"
    }
   ],
   "source": [
    "# Since we are encoding three different countries France , Spain and germany as 0 , 2 and 1 . However there are not any relationship between these countries\n",
    "# but encoding them like this shows that Spain is greater than germany and France mathematically. So for this purpose we need to perform one hot encoding.\n",
    "X.Geography.values.shape"
   ]
  },
  {
   "cell_type": "code",
   "execution_count": 20,
   "metadata": {
    "colab": {},
    "colab_type": "code",
    "id": "c9yBBqAmNWjM"
   },
   "outputs": [],
   "source": [
    "onehotencoder = OneHotEncoder()\n",
    "ohe = onehotencoder.fit_transform(X.Geography.values.reshape(-1,1)).toarray()\n"
   ]
  },
  {
   "cell_type": "code",
   "execution_count": 21,
   "metadata": {
    "colab": {},
    "colab_type": "code",
    "id": "2y6l_xLxfT8P"
   },
   "outputs": [],
   "source": [
    "# 0 stans for France , 2 stands for Spain and 1 stands for germany\n",
    "# 0 stands for Female and 1 stands for Male"
   ]
  },
  {
   "cell_type": "code",
   "execution_count": 22,
   "metadata": {
    "colab": {
     "base_uri": "https://localhost:8080/",
     "height": 204
    },
    "colab_type": "code",
    "id": "z6T-YttXfeYv",
    "outputId": "9fe26f3c-c76e-48f1-9453-32fea99c3931"
   },
   "outputs": [
    {
     "data": {
      "text/html": [
       "<div>\n",
       "<style scoped>\n",
       "    .dataframe tbody tr th:only-of-type {\n",
       "        vertical-align: middle;\n",
       "    }\n",
       "\n",
       "    .dataframe tbody tr th {\n",
       "        vertical-align: top;\n",
       "    }\n",
       "\n",
       "    .dataframe thead th {\n",
       "        text-align: right;\n",
       "    }\n",
       "</style>\n",
       "<table border=\"1\" class=\"dataframe\">\n",
       "  <thead>\n",
       "    <tr style=\"text-align: right;\">\n",
       "      <th></th>\n",
       "      <th>CreditScore</th>\n",
       "      <th>Geography</th>\n",
       "      <th>Gender</th>\n",
       "      <th>Age</th>\n",
       "      <th>Tenure</th>\n",
       "      <th>Balance</th>\n",
       "      <th>NumOfProducts</th>\n",
       "      <th>HasCrCard</th>\n",
       "      <th>IsActiveMember</th>\n",
       "      <th>EstimatedSalary</th>\n",
       "    </tr>\n",
       "  </thead>\n",
       "  <tbody>\n",
       "    <tr>\n",
       "      <th>0</th>\n",
       "      <td>619</td>\n",
       "      <td>0</td>\n",
       "      <td>0</td>\n",
       "      <td>42</td>\n",
       "      <td>2</td>\n",
       "      <td>0.00</td>\n",
       "      <td>1</td>\n",
       "      <td>1</td>\n",
       "      <td>1</td>\n",
       "      <td>101348.88</td>\n",
       "    </tr>\n",
       "    <tr>\n",
       "      <th>1</th>\n",
       "      <td>608</td>\n",
       "      <td>2</td>\n",
       "      <td>0</td>\n",
       "      <td>41</td>\n",
       "      <td>1</td>\n",
       "      <td>83807.86</td>\n",
       "      <td>1</td>\n",
       "      <td>0</td>\n",
       "      <td>1</td>\n",
       "      <td>112542.58</td>\n",
       "    </tr>\n",
       "    <tr>\n",
       "      <th>2</th>\n",
       "      <td>502</td>\n",
       "      <td>0</td>\n",
       "      <td>0</td>\n",
       "      <td>42</td>\n",
       "      <td>8</td>\n",
       "      <td>159660.80</td>\n",
       "      <td>3</td>\n",
       "      <td>1</td>\n",
       "      <td>0</td>\n",
       "      <td>113931.57</td>\n",
       "    </tr>\n",
       "    <tr>\n",
       "      <th>3</th>\n",
       "      <td>699</td>\n",
       "      <td>0</td>\n",
       "      <td>0</td>\n",
       "      <td>39</td>\n",
       "      <td>1</td>\n",
       "      <td>0.00</td>\n",
       "      <td>2</td>\n",
       "      <td>0</td>\n",
       "      <td>0</td>\n",
       "      <td>93826.63</td>\n",
       "    </tr>\n",
       "    <tr>\n",
       "      <th>4</th>\n",
       "      <td>850</td>\n",
       "      <td>2</td>\n",
       "      <td>0</td>\n",
       "      <td>43</td>\n",
       "      <td>2</td>\n",
       "      <td>125510.82</td>\n",
       "      <td>1</td>\n",
       "      <td>1</td>\n",
       "      <td>1</td>\n",
       "      <td>79084.10</td>\n",
       "    </tr>\n",
       "  </tbody>\n",
       "</table>\n",
       "</div>"
      ],
      "text/plain": [
       "   CreditScore  Geography  Gender  Age  Tenure    Balance  NumOfProducts  \\\n",
       "0          619          0       0   42       2       0.00              1   \n",
       "1          608          2       0   41       1   83807.86              1   \n",
       "2          502          0       0   42       8  159660.80              3   \n",
       "3          699          0       0   39       1       0.00              2   \n",
       "4          850          2       0   43       2  125510.82              1   \n",
       "\n",
       "   HasCrCard  IsActiveMember  EstimatedSalary  \n",
       "0          1               1        101348.88  \n",
       "1          0               1        112542.58  \n",
       "2          1               0        113931.57  \n",
       "3          0               0         93826.63  \n",
       "4          1               1         79084.10  "
      ]
     },
     "execution_count": 22,
     "metadata": {},
     "output_type": "execute_result"
    }
   ],
   "source": [
    "X.head(5)"
   ]
  },
  {
   "cell_type": "code",
   "execution_count": 23,
   "metadata": {
    "colab": {
     "base_uri": "https://localhost:8080/",
     "height": 102
    },
    "colab_type": "code",
    "id": "WrF4XxX_bdjj",
    "outputId": "001df98d-6f1b-40e7-c94b-561951a64f67"
   },
   "outputs": [
    {
     "name": "stdout",
     "output_type": "stream",
     "text": [
      "[1. 0. 0.]\n",
      "[0. 0. 1.]\n",
      "[1. 0. 0.]\n",
      "[1. 0. 0.]\n",
      "[0. 0. 1.]\n"
     ]
    }
   ],
   "source": [
    "i = 0\n",
    "for items in ohe:\n",
    "  print(items)\n",
    "  i+= 1\n",
    "  if(i==5):\n",
    "    break"
   ]
  },
  {
   "cell_type": "code",
   "execution_count": 24,
   "metadata": {
    "colab": {},
    "colab_type": "code",
    "id": "TfpS1vSNdIbc"
   },
   "outputs": [],
   "source": [
    "encoded_df = pd.DataFrame(ohe,columns=['France','Germany','Spain'])"
   ]
  },
  {
   "cell_type": "code",
   "execution_count": 25,
   "metadata": {
    "colab": {
     "base_uri": "https://localhost:8080/",
     "height": 419
    },
    "colab_type": "code",
    "id": "7YANNxr-gOrv",
    "outputId": "64d385db-b83c-4584-f50b-3d52938de5b0"
   },
   "outputs": [
    {
     "data": {
      "text/html": [
       "<div>\n",
       "<style scoped>\n",
       "    .dataframe tbody tr th:only-of-type {\n",
       "        vertical-align: middle;\n",
       "    }\n",
       "\n",
       "    .dataframe tbody tr th {\n",
       "        vertical-align: top;\n",
       "    }\n",
       "\n",
       "    .dataframe thead th {\n",
       "        text-align: right;\n",
       "    }\n",
       "</style>\n",
       "<table border=\"1\" class=\"dataframe\">\n",
       "  <thead>\n",
       "    <tr style=\"text-align: right;\">\n",
       "      <th></th>\n",
       "      <th>France</th>\n",
       "      <th>Germany</th>\n",
       "      <th>Spain</th>\n",
       "    </tr>\n",
       "  </thead>\n",
       "  <tbody>\n",
       "    <tr>\n",
       "      <th>0</th>\n",
       "      <td>1.0</td>\n",
       "      <td>0.0</td>\n",
       "      <td>0.0</td>\n",
       "    </tr>\n",
       "    <tr>\n",
       "      <th>1</th>\n",
       "      <td>0.0</td>\n",
       "      <td>0.0</td>\n",
       "      <td>1.0</td>\n",
       "    </tr>\n",
       "    <tr>\n",
       "      <th>2</th>\n",
       "      <td>1.0</td>\n",
       "      <td>0.0</td>\n",
       "      <td>0.0</td>\n",
       "    </tr>\n",
       "    <tr>\n",
       "      <th>3</th>\n",
       "      <td>1.0</td>\n",
       "      <td>0.0</td>\n",
       "      <td>0.0</td>\n",
       "    </tr>\n",
       "    <tr>\n",
       "      <th>4</th>\n",
       "      <td>0.0</td>\n",
       "      <td>0.0</td>\n",
       "      <td>1.0</td>\n",
       "    </tr>\n",
       "    <tr>\n",
       "      <th>...</th>\n",
       "      <td>...</td>\n",
       "      <td>...</td>\n",
       "      <td>...</td>\n",
       "    </tr>\n",
       "    <tr>\n",
       "      <th>9995</th>\n",
       "      <td>1.0</td>\n",
       "      <td>0.0</td>\n",
       "      <td>0.0</td>\n",
       "    </tr>\n",
       "    <tr>\n",
       "      <th>9996</th>\n",
       "      <td>1.0</td>\n",
       "      <td>0.0</td>\n",
       "      <td>0.0</td>\n",
       "    </tr>\n",
       "    <tr>\n",
       "      <th>9997</th>\n",
       "      <td>1.0</td>\n",
       "      <td>0.0</td>\n",
       "      <td>0.0</td>\n",
       "    </tr>\n",
       "    <tr>\n",
       "      <th>9998</th>\n",
       "      <td>0.0</td>\n",
       "      <td>1.0</td>\n",
       "      <td>0.0</td>\n",
       "    </tr>\n",
       "    <tr>\n",
       "      <th>9999</th>\n",
       "      <td>1.0</td>\n",
       "      <td>0.0</td>\n",
       "      <td>0.0</td>\n",
       "    </tr>\n",
       "  </tbody>\n",
       "</table>\n",
       "<p>10000 rows × 3 columns</p>\n",
       "</div>"
      ],
      "text/plain": [
       "      France  Germany  Spain\n",
       "0        1.0      0.0    0.0\n",
       "1        0.0      0.0    1.0\n",
       "2        1.0      0.0    0.0\n",
       "3        1.0      0.0    0.0\n",
       "4        0.0      0.0    1.0\n",
       "...      ...      ...    ...\n",
       "9995     1.0      0.0    0.0\n",
       "9996     1.0      0.0    0.0\n",
       "9997     1.0      0.0    0.0\n",
       "9998     0.0      1.0    0.0\n",
       "9999     1.0      0.0    0.0\n",
       "\n",
       "[10000 rows x 3 columns]"
      ]
     },
     "execution_count": 25,
     "metadata": {},
     "output_type": "execute_result"
    }
   ],
   "source": [
    "encoded_df"
   ]
  },
  {
   "cell_type": "code",
   "execution_count": 26,
   "metadata": {
    "colab": {},
    "colab_type": "code",
    "id": "gn58lE79gQH7"
   },
   "outputs": [],
   "source": [
    "import pandas as pd\n"
   ]
  },
  {
   "cell_type": "code",
   "execution_count": 27,
   "metadata": {
    "colab": {},
    "colab_type": "code",
    "id": "XkIw429igi96"
   },
   "outputs": [],
   "source": [
    "X = pd.concat([encoded_df,X],axis=1)"
   ]
  },
  {
   "cell_type": "code",
   "execution_count": 28,
   "metadata": {
    "colab": {
     "base_uri": "https://localhost:8080/",
     "height": 439
    },
    "colab_type": "code",
    "id": "3Flunh6fg3IJ",
    "outputId": "bbb2b490-46ea-4016-923d-5e0c4bee132b"
   },
   "outputs": [
    {
     "data": {
      "text/html": [
       "<div>\n",
       "<style scoped>\n",
       "    .dataframe tbody tr th:only-of-type {\n",
       "        vertical-align: middle;\n",
       "    }\n",
       "\n",
       "    .dataframe tbody tr th {\n",
       "        vertical-align: top;\n",
       "    }\n",
       "\n",
       "    .dataframe thead th {\n",
       "        text-align: right;\n",
       "    }\n",
       "</style>\n",
       "<table border=\"1\" class=\"dataframe\">\n",
       "  <thead>\n",
       "    <tr style=\"text-align: right;\">\n",
       "      <th></th>\n",
       "      <th>France</th>\n",
       "      <th>Germany</th>\n",
       "      <th>Spain</th>\n",
       "      <th>CreditScore</th>\n",
       "      <th>Geography</th>\n",
       "      <th>Gender</th>\n",
       "      <th>Age</th>\n",
       "      <th>Tenure</th>\n",
       "      <th>Balance</th>\n",
       "      <th>NumOfProducts</th>\n",
       "      <th>HasCrCard</th>\n",
       "      <th>IsActiveMember</th>\n",
       "      <th>EstimatedSalary</th>\n",
       "    </tr>\n",
       "  </thead>\n",
       "  <tbody>\n",
       "    <tr>\n",
       "      <th>0</th>\n",
       "      <td>1.0</td>\n",
       "      <td>0.0</td>\n",
       "      <td>0.0</td>\n",
       "      <td>619</td>\n",
       "      <td>0</td>\n",
       "      <td>0</td>\n",
       "      <td>42</td>\n",
       "      <td>2</td>\n",
       "      <td>0.00</td>\n",
       "      <td>1</td>\n",
       "      <td>1</td>\n",
       "      <td>1</td>\n",
       "      <td>101348.88</td>\n",
       "    </tr>\n",
       "    <tr>\n",
       "      <th>1</th>\n",
       "      <td>0.0</td>\n",
       "      <td>0.0</td>\n",
       "      <td>1.0</td>\n",
       "      <td>608</td>\n",
       "      <td>2</td>\n",
       "      <td>0</td>\n",
       "      <td>41</td>\n",
       "      <td>1</td>\n",
       "      <td>83807.86</td>\n",
       "      <td>1</td>\n",
       "      <td>0</td>\n",
       "      <td>1</td>\n",
       "      <td>112542.58</td>\n",
       "    </tr>\n",
       "    <tr>\n",
       "      <th>2</th>\n",
       "      <td>1.0</td>\n",
       "      <td>0.0</td>\n",
       "      <td>0.0</td>\n",
       "      <td>502</td>\n",
       "      <td>0</td>\n",
       "      <td>0</td>\n",
       "      <td>42</td>\n",
       "      <td>8</td>\n",
       "      <td>159660.80</td>\n",
       "      <td>3</td>\n",
       "      <td>1</td>\n",
       "      <td>0</td>\n",
       "      <td>113931.57</td>\n",
       "    </tr>\n",
       "    <tr>\n",
       "      <th>3</th>\n",
       "      <td>1.0</td>\n",
       "      <td>0.0</td>\n",
       "      <td>0.0</td>\n",
       "      <td>699</td>\n",
       "      <td>0</td>\n",
       "      <td>0</td>\n",
       "      <td>39</td>\n",
       "      <td>1</td>\n",
       "      <td>0.00</td>\n",
       "      <td>2</td>\n",
       "      <td>0</td>\n",
       "      <td>0</td>\n",
       "      <td>93826.63</td>\n",
       "    </tr>\n",
       "    <tr>\n",
       "      <th>4</th>\n",
       "      <td>0.0</td>\n",
       "      <td>0.0</td>\n",
       "      <td>1.0</td>\n",
       "      <td>850</td>\n",
       "      <td>2</td>\n",
       "      <td>0</td>\n",
       "      <td>43</td>\n",
       "      <td>2</td>\n",
       "      <td>125510.82</td>\n",
       "      <td>1</td>\n",
       "      <td>1</td>\n",
       "      <td>1</td>\n",
       "      <td>79084.10</td>\n",
       "    </tr>\n",
       "    <tr>\n",
       "      <th>...</th>\n",
       "      <td>...</td>\n",
       "      <td>...</td>\n",
       "      <td>...</td>\n",
       "      <td>...</td>\n",
       "      <td>...</td>\n",
       "      <td>...</td>\n",
       "      <td>...</td>\n",
       "      <td>...</td>\n",
       "      <td>...</td>\n",
       "      <td>...</td>\n",
       "      <td>...</td>\n",
       "      <td>...</td>\n",
       "      <td>...</td>\n",
       "    </tr>\n",
       "    <tr>\n",
       "      <th>9995</th>\n",
       "      <td>1.0</td>\n",
       "      <td>0.0</td>\n",
       "      <td>0.0</td>\n",
       "      <td>771</td>\n",
       "      <td>0</td>\n",
       "      <td>1</td>\n",
       "      <td>39</td>\n",
       "      <td>5</td>\n",
       "      <td>0.00</td>\n",
       "      <td>2</td>\n",
       "      <td>1</td>\n",
       "      <td>0</td>\n",
       "      <td>96270.64</td>\n",
       "    </tr>\n",
       "    <tr>\n",
       "      <th>9996</th>\n",
       "      <td>1.0</td>\n",
       "      <td>0.0</td>\n",
       "      <td>0.0</td>\n",
       "      <td>516</td>\n",
       "      <td>0</td>\n",
       "      <td>1</td>\n",
       "      <td>35</td>\n",
       "      <td>10</td>\n",
       "      <td>57369.61</td>\n",
       "      <td>1</td>\n",
       "      <td>1</td>\n",
       "      <td>1</td>\n",
       "      <td>101699.77</td>\n",
       "    </tr>\n",
       "    <tr>\n",
       "      <th>9997</th>\n",
       "      <td>1.0</td>\n",
       "      <td>0.0</td>\n",
       "      <td>0.0</td>\n",
       "      <td>709</td>\n",
       "      <td>0</td>\n",
       "      <td>0</td>\n",
       "      <td>36</td>\n",
       "      <td>7</td>\n",
       "      <td>0.00</td>\n",
       "      <td>1</td>\n",
       "      <td>0</td>\n",
       "      <td>1</td>\n",
       "      <td>42085.58</td>\n",
       "    </tr>\n",
       "    <tr>\n",
       "      <th>9998</th>\n",
       "      <td>0.0</td>\n",
       "      <td>1.0</td>\n",
       "      <td>0.0</td>\n",
       "      <td>772</td>\n",
       "      <td>1</td>\n",
       "      <td>1</td>\n",
       "      <td>42</td>\n",
       "      <td>3</td>\n",
       "      <td>75075.31</td>\n",
       "      <td>2</td>\n",
       "      <td>1</td>\n",
       "      <td>0</td>\n",
       "      <td>92888.52</td>\n",
       "    </tr>\n",
       "    <tr>\n",
       "      <th>9999</th>\n",
       "      <td>1.0</td>\n",
       "      <td>0.0</td>\n",
       "      <td>0.0</td>\n",
       "      <td>792</td>\n",
       "      <td>0</td>\n",
       "      <td>0</td>\n",
       "      <td>28</td>\n",
       "      <td>4</td>\n",
       "      <td>130142.79</td>\n",
       "      <td>1</td>\n",
       "      <td>1</td>\n",
       "      <td>0</td>\n",
       "      <td>38190.78</td>\n",
       "    </tr>\n",
       "  </tbody>\n",
       "</table>\n",
       "<p>10000 rows × 13 columns</p>\n",
       "</div>"
      ],
      "text/plain": [
       "      France  Germany  Spain  CreditScore  Geography  Gender  Age  Tenure  \\\n",
       "0        1.0      0.0    0.0          619          0       0   42       2   \n",
       "1        0.0      0.0    1.0          608          2       0   41       1   \n",
       "2        1.0      0.0    0.0          502          0       0   42       8   \n",
       "3        1.0      0.0    0.0          699          0       0   39       1   \n",
       "4        0.0      0.0    1.0          850          2       0   43       2   \n",
       "...      ...      ...    ...          ...        ...     ...  ...     ...   \n",
       "9995     1.0      0.0    0.0          771          0       1   39       5   \n",
       "9996     1.0      0.0    0.0          516          0       1   35      10   \n",
       "9997     1.0      0.0    0.0          709          0       0   36       7   \n",
       "9998     0.0      1.0    0.0          772          1       1   42       3   \n",
       "9999     1.0      0.0    0.0          792          0       0   28       4   \n",
       "\n",
       "        Balance  NumOfProducts  HasCrCard  IsActiveMember  EstimatedSalary  \n",
       "0          0.00              1          1               1        101348.88  \n",
       "1      83807.86              1          0               1        112542.58  \n",
       "2     159660.80              3          1               0        113931.57  \n",
       "3          0.00              2          0               0         93826.63  \n",
       "4     125510.82              1          1               1         79084.10  \n",
       "...         ...            ...        ...             ...              ...  \n",
       "9995       0.00              2          1               0         96270.64  \n",
       "9996   57369.61              1          1               1        101699.77  \n",
       "9997       0.00              1          0               1         42085.58  \n",
       "9998   75075.31              2          1               0         92888.52  \n",
       "9999  130142.79              1          1               0         38190.78  \n",
       "\n",
       "[10000 rows x 13 columns]"
      ]
     },
     "execution_count": 28,
     "metadata": {},
     "output_type": "execute_result"
    }
   ],
   "source": [
    "X"
   ]
  },
  {
   "cell_type": "code",
   "execution_count": 29,
   "metadata": {
    "colab": {},
    "colab_type": "code",
    "id": "CtawUOUCg_Av"
   },
   "outputs": [],
   "source": [
    "# Removing one dummy feature / variable / columns.\n",
    "# Dropping Geography columns and one dummy variable columns i.e. France \n",
    "# "
   ]
  },
  {
   "cell_type": "code",
   "execution_count": 30,
   "metadata": {
    "colab": {},
    "colab_type": "code",
    "id": "uwcEZc3BhwC1"
   },
   "outputs": [],
   "source": [
    "preprocessed_dataframe = X.drop(['France','Geography'],axis=1)"
   ]
  },
  {
   "cell_type": "code",
   "execution_count": 31,
   "metadata": {
    "colab": {
     "base_uri": "https://localhost:8080/",
     "height": 204
    },
    "colab_type": "code",
    "id": "bUJmniGDh641",
    "outputId": "00eaaf62-5eb6-4732-c4b9-06668ebd9b5f"
   },
   "outputs": [
    {
     "data": {
      "text/html": [
       "<div>\n",
       "<style scoped>\n",
       "    .dataframe tbody tr th:only-of-type {\n",
       "        vertical-align: middle;\n",
       "    }\n",
       "\n",
       "    .dataframe tbody tr th {\n",
       "        vertical-align: top;\n",
       "    }\n",
       "\n",
       "    .dataframe thead th {\n",
       "        text-align: right;\n",
       "    }\n",
       "</style>\n",
       "<table border=\"1\" class=\"dataframe\">\n",
       "  <thead>\n",
       "    <tr style=\"text-align: right;\">\n",
       "      <th></th>\n",
       "      <th>Germany</th>\n",
       "      <th>Spain</th>\n",
       "      <th>CreditScore</th>\n",
       "      <th>Gender</th>\n",
       "      <th>Age</th>\n",
       "      <th>Tenure</th>\n",
       "      <th>Balance</th>\n",
       "      <th>NumOfProducts</th>\n",
       "      <th>HasCrCard</th>\n",
       "      <th>IsActiveMember</th>\n",
       "      <th>EstimatedSalary</th>\n",
       "    </tr>\n",
       "  </thead>\n",
       "  <tbody>\n",
       "    <tr>\n",
       "      <th>0</th>\n",
       "      <td>0.0</td>\n",
       "      <td>0.0</td>\n",
       "      <td>619</td>\n",
       "      <td>0</td>\n",
       "      <td>42</td>\n",
       "      <td>2</td>\n",
       "      <td>0.00</td>\n",
       "      <td>1</td>\n",
       "      <td>1</td>\n",
       "      <td>1</td>\n",
       "      <td>101348.88</td>\n",
       "    </tr>\n",
       "    <tr>\n",
       "      <th>1</th>\n",
       "      <td>0.0</td>\n",
       "      <td>1.0</td>\n",
       "      <td>608</td>\n",
       "      <td>0</td>\n",
       "      <td>41</td>\n",
       "      <td>1</td>\n",
       "      <td>83807.86</td>\n",
       "      <td>1</td>\n",
       "      <td>0</td>\n",
       "      <td>1</td>\n",
       "      <td>112542.58</td>\n",
       "    </tr>\n",
       "    <tr>\n",
       "      <th>2</th>\n",
       "      <td>0.0</td>\n",
       "      <td>0.0</td>\n",
       "      <td>502</td>\n",
       "      <td>0</td>\n",
       "      <td>42</td>\n",
       "      <td>8</td>\n",
       "      <td>159660.80</td>\n",
       "      <td>3</td>\n",
       "      <td>1</td>\n",
       "      <td>0</td>\n",
       "      <td>113931.57</td>\n",
       "    </tr>\n",
       "    <tr>\n",
       "      <th>3</th>\n",
       "      <td>0.0</td>\n",
       "      <td>0.0</td>\n",
       "      <td>699</td>\n",
       "      <td>0</td>\n",
       "      <td>39</td>\n",
       "      <td>1</td>\n",
       "      <td>0.00</td>\n",
       "      <td>2</td>\n",
       "      <td>0</td>\n",
       "      <td>0</td>\n",
       "      <td>93826.63</td>\n",
       "    </tr>\n",
       "    <tr>\n",
       "      <th>4</th>\n",
       "      <td>0.0</td>\n",
       "      <td>1.0</td>\n",
       "      <td>850</td>\n",
       "      <td>0</td>\n",
       "      <td>43</td>\n",
       "      <td>2</td>\n",
       "      <td>125510.82</td>\n",
       "      <td>1</td>\n",
       "      <td>1</td>\n",
       "      <td>1</td>\n",
       "      <td>79084.10</td>\n",
       "    </tr>\n",
       "  </tbody>\n",
       "</table>\n",
       "</div>"
      ],
      "text/plain": [
       "   Germany  Spain  CreditScore  Gender  Age  Tenure    Balance  NumOfProducts  \\\n",
       "0      0.0    0.0          619       0   42       2       0.00              1   \n",
       "1      0.0    1.0          608       0   41       1   83807.86              1   \n",
       "2      0.0    0.0          502       0   42       8  159660.80              3   \n",
       "3      0.0    0.0          699       0   39       1       0.00              2   \n",
       "4      0.0    1.0          850       0   43       2  125510.82              1   \n",
       "\n",
       "   HasCrCard  IsActiveMember  EstimatedSalary  \n",
       "0          1               1        101348.88  \n",
       "1          0               1        112542.58  \n",
       "2          1               0        113931.57  \n",
       "3          0               0         93826.63  \n",
       "4          1               1         79084.10  "
      ]
     },
     "execution_count": 31,
     "metadata": {},
     "output_type": "execute_result"
    }
   ],
   "source": [
    "preprocessed_dataframe.head()"
   ]
  },
  {
   "cell_type": "code",
   "execution_count": 32,
   "metadata": {
    "colab": {},
    "colab_type": "code",
    "id": "5ajYy7xQh_ph"
   },
   "outputs": [],
   "source": [
    "trainable_data = preprocessed_dataframe.iloc[:,:].values\n"
   ]
  },
  {
   "cell_type": "code",
   "execution_count": 33,
   "metadata": {
    "colab": {
     "base_uri": "https://localhost:8080/",
     "height": 68
    },
    "colab_type": "code",
    "id": "GclscwWneAIS",
    "outputId": "e45ff838-8448-4cbb-a864-806dc05045bd"
   },
   "outputs": [
    {
     "data": {
      "text/plain": [
       "array([0.0000000e+00, 0.0000000e+00, 6.1900000e+02, 0.0000000e+00,\n",
       "       4.2000000e+01, 2.0000000e+00, 0.0000000e+00, 1.0000000e+00,\n",
       "       1.0000000e+00, 1.0000000e+00, 1.0134888e+05])"
      ]
     },
     "execution_count": 33,
     "metadata": {},
     "output_type": "execute_result"
    }
   ],
   "source": [
    "trainable_data[0]"
   ]
  },
  {
   "cell_type": "code",
   "execution_count": 34,
   "metadata": {
    "colab": {
     "base_uri": "https://localhost:8080/",
     "height": 34
    },
    "colab_type": "code",
    "id": "vrFx6zyNeBfB",
    "outputId": "2c8651c6-4cd7-40fa-edfc-61ec42486319"
   },
   "outputs": [
    {
     "data": {
      "text/plain": [
       "array([1, 0, 1, ..., 1, 1, 0], dtype=int64)"
      ]
     },
     "execution_count": 34,
     "metadata": {},
     "output_type": "execute_result"
    }
   ],
   "source": [
    "trainable_labels = dataset.iloc[:,13].values\n",
    "trainable_labels"
   ]
  },
  {
   "cell_type": "code",
   "execution_count": 35,
   "metadata": {
    "colab": {
     "base_uri": "https://localhost:8080/",
     "height": 34
    },
    "colab_type": "code",
    "id": "7-e094e2fC6t",
    "outputId": "7ff7c96b-7178-457c-fe78-1774acafd79d"
   },
   "outputs": [
    {
     "data": {
      "text/plain": [
       "(10000, 11)"
      ]
     },
     "execution_count": 35,
     "metadata": {},
     "output_type": "execute_result"
    }
   ],
   "source": [
    "trainable_data.shape"
   ]
  },
  {
   "cell_type": "code",
   "execution_count": 36,
   "metadata": {
    "colab": {},
    "colab_type": "code",
    "id": "VSyVJvY_fRXU"
   },
   "outputs": [],
   "source": [
    "# Splitting the dataset into Training set and Test set"
   ]
  },
  {
   "cell_type": "code",
   "execution_count": 37,
   "metadata": {
    "colab": {},
    "colab_type": "code",
    "id": "n2vwPseTfkA_"
   },
   "outputs": [],
   "source": [
    "from sklearn.model_selection import train_test_split"
   ]
  },
  {
   "cell_type": "code",
   "execution_count": 38,
   "metadata": {
    "colab": {},
    "colab_type": "code",
    "id": "Hr7usHS_fo89"
   },
   "outputs": [],
   "source": [
    "X_train,X_test,y_train,y_test = train_test_split(trainable_data,trainable_labels,test_size=0.2,random_state=0)"
   ]
  },
  {
   "cell_type": "code",
   "execution_count": 39,
   "metadata": {
    "colab": {},
    "colab_type": "code",
    "id": "SZ0xd_1if7U0"
   },
   "outputs": [],
   "source": [
    "#Feature Scaling\n"
   ]
  },
  {
   "cell_type": "code",
   "execution_count": 40,
   "metadata": {
    "colab": {},
    "colab_type": "code",
    "id": "rhY3dvhbf-xD"
   },
   "outputs": [],
   "source": [
    "from sklearn.preprocessing import StandardScaler"
   ]
  },
  {
   "cell_type": "code",
   "execution_count": 41,
   "metadata": {
    "colab": {},
    "colab_type": "code",
    "id": "qd-Dy9iDgClJ"
   },
   "outputs": [],
   "source": [
    "sc = StandardScaler()\n",
    "X_train = sc.fit_transform(X_train)\n",
    "X_test = sc.fit_transform(X_test)"
   ]
  },
  {
   "cell_type": "code",
   "execution_count": 42,
   "metadata": {
    "colab": {},
    "colab_type": "code",
    "id": "QyNIAeligc5q"
   },
   "outputs": [],
   "source": [
    "# Now Data preprocessing step is finished now we must focus on building the architecture of ANN "
   ]
  },
  {
   "cell_type": "code",
   "execution_count": 43,
   "metadata": {
    "colab": {},
    "colab_type": "code",
    "id": "ZS9riIE6glNK"
   },
   "outputs": [],
   "source": [
    "#Importing the Keras Libraries and Packages"
   ]
  },
  {
   "cell_type": "code",
   "execution_count": 44,
   "metadata": {
    "colab": {
     "base_uri": "https://localhost:8080/",
     "height": 34
    },
    "colab_type": "code",
    "id": "qVhP-p4Sgovh",
    "outputId": "8cfd4da5-a81b-4f8a-93b1-166547223a3f"
   },
   "outputs": [],
   "source": [
    "from keras.models import Sequential\n",
    "from keras.layers import Dense\n",
    "from keras.layers import Activation\n",
    "import tensorflow as tf"
   ]
  },
  {
   "cell_type": "code",
   "execution_count": 45,
   "metadata": {
    "colab": {},
    "colab_type": "code",
    "id": "ugnip1zig6fL"
   },
   "outputs": [],
   "source": [
    "rms_model = Sequential()\n"
   ]
  },
  {
   "cell_type": "code",
   "execution_count": 46,
   "metadata": {},
   "outputs": [
    {
     "name": "stdout",
     "output_type": "stream",
     "text": [
      "Epoch 1/150\n",
      "320/320 [==============================] - 2s 3ms/step - loss: 0.5000 - accuracy: 0.7955 - val_loss: 0.4288 - val_accuracy: 0.7975\n",
      "Epoch 2/150\n",
      "320/320 [==============================] - 1s 3ms/step - loss: 0.4281 - accuracy: 0.7960 - val_loss: 0.4210 - val_accuracy: 0.7975\n",
      "Epoch 3/150\n",
      "320/320 [==============================] - 1s 3ms/step - loss: 0.4210 - accuracy: 0.8091 - val_loss: 0.4142 - val_accuracy: 0.8255\n",
      "Epoch 4/150\n",
      "320/320 [==============================] - 1s 3ms/step - loss: 0.4162 - accuracy: 0.8266 - val_loss: 0.4114 - val_accuracy: 0.8305\n",
      "Epoch 5/150\n",
      "320/320 [==============================] - 1s 3ms/step - loss: 0.4120 - accuracy: 0.8317 - val_loss: 0.4067 - val_accuracy: 0.8395\n",
      "Epoch 6/150\n",
      "320/320 [==============================] - 1s 3ms/step - loss: 0.4088 - accuracy: 0.8347 - val_loss: 0.4042 - val_accuracy: 0.8370\n",
      "Epoch 7/150\n",
      "320/320 [==============================] - 1s 3ms/step - loss: 0.4059 - accuracy: 0.8345 - val_loss: 0.4016 - val_accuracy: 0.8405\n",
      "Epoch 8/150\n",
      "320/320 [==============================] - 1s 3ms/step - loss: 0.4036 - accuracy: 0.8350 - val_loss: 0.4024 - val_accuracy: 0.8385\n",
      "Epoch 9/150\n",
      "320/320 [==============================] - 1s 3ms/step - loss: 0.4029 - accuracy: 0.8342 - val_loss: 0.4000 - val_accuracy: 0.8410\n",
      "Epoch 10/150\n",
      "320/320 [==============================] - 1s 3ms/step - loss: 0.4010 - accuracy: 0.8350 - val_loss: 0.3981 - val_accuracy: 0.8415\n",
      "Epoch 11/150\n",
      "320/320 [==============================] - 1s 3ms/step - loss: 0.4003 - accuracy: 0.8360 - val_loss: 0.3982 - val_accuracy: 0.8410\n",
      "Epoch 12/150\n",
      "320/320 [==============================] - 1s 3ms/step - loss: 0.3990 - accuracy: 0.8361 - val_loss: 0.3981 - val_accuracy: 0.8425\n",
      "Epoch 13/150\n",
      "320/320 [==============================] - 1s 3ms/step - loss: 0.3985 - accuracy: 0.8374 - val_loss: 0.3952 - val_accuracy: 0.8400\n",
      "Epoch 14/150\n",
      "320/320 [==============================] - 1s 3ms/step - loss: 0.3976 - accuracy: 0.8370 - val_loss: 0.3969 - val_accuracy: 0.8405\n",
      "Epoch 15/150\n",
      "320/320 [==============================] - 1s 3ms/step - loss: 0.3970 - accuracy: 0.8365 - val_loss: 0.3960 - val_accuracy: 0.8410\n",
      "Epoch 16/150\n",
      "320/320 [==============================] - 1s 3ms/step - loss: 0.3964 - accuracy: 0.8379 - val_loss: 0.3948 - val_accuracy: 0.8415\n",
      "Epoch 17/150\n",
      "320/320 [==============================] - 1s 3ms/step - loss: 0.3963 - accuracy: 0.8371 - val_loss: 0.3929 - val_accuracy: 0.8415\n",
      "Epoch 18/150\n",
      "320/320 [==============================] - 1s 3ms/step - loss: 0.3954 - accuracy: 0.8386 - val_loss: 0.3937 - val_accuracy: 0.8410\n",
      "Epoch 19/150\n",
      "320/320 [==============================] - 1s 3ms/step - loss: 0.3954 - accuracy: 0.8389 - val_loss: 0.3942 - val_accuracy: 0.8390\n",
      "Epoch 20/150\n",
      "320/320 [==============================] - 1s 3ms/step - loss: 0.3951 - accuracy: 0.8367 - val_loss: 0.3931 - val_accuracy: 0.8405\n",
      "Epoch 21/150\n",
      "320/320 [==============================] - 1s 4ms/step - loss: 0.3944 - accuracy: 0.8384 - val_loss: 0.3958 - val_accuracy: 0.8400\n",
      "Epoch 22/150\n",
      "320/320 [==============================] - 1s 3ms/step - loss: 0.3938 - accuracy: 0.8384 - val_loss: 0.3956 - val_accuracy: 0.8440\n",
      "Epoch 23/150\n",
      "320/320 [==============================] - 1s 3ms/step - loss: 0.3934 - accuracy: 0.8397 - val_loss: 0.3984 - val_accuracy: 0.8395\n",
      "Epoch 24/150\n",
      "320/320 [==============================] - 1s 3ms/step - loss: 0.3939 - accuracy: 0.8378 - val_loss: 0.3959 - val_accuracy: 0.8420\n",
      "Epoch 25/150\n",
      "320/320 [==============================] - 1s 3ms/step - loss: 0.3935 - accuracy: 0.8400 - val_loss: 0.3942 - val_accuracy: 0.8445\n",
      "Epoch 26/150\n",
      "320/320 [==============================] - 1s 3ms/step - loss: 0.3934 - accuracy: 0.8386 - val_loss: 0.3961 - val_accuracy: 0.8435\n",
      "Epoch 27/150\n",
      "320/320 [==============================] - 1s 3ms/step - loss: 0.3933 - accuracy: 0.8388 - val_loss: 0.3955 - val_accuracy: 0.8400\n",
      "Epoch 28/150\n",
      "320/320 [==============================] - 1s 3ms/step - loss: 0.3932 - accuracy: 0.8411 - val_loss: 0.3933 - val_accuracy: 0.8440\n",
      "Epoch 29/150\n",
      "320/320 [==============================] - 1s 3ms/step - loss: 0.3931 - accuracy: 0.8382 - val_loss: 0.3943 - val_accuracy: 0.8410\n",
      "Epoch 30/150\n",
      "320/320 [==============================] - 1s 3ms/step - loss: 0.3932 - accuracy: 0.8385 - val_loss: 0.3929 - val_accuracy: 0.8435\n",
      "Epoch 31/150\n",
      "320/320 [==============================] - 1s 4ms/step - loss: 0.3926 - accuracy: 0.8391 - val_loss: 0.3923 - val_accuracy: 0.8445\n",
      "Epoch 32/150\n",
      "320/320 [==============================] - 1s 3ms/step - loss: 0.3926 - accuracy: 0.8407 - val_loss: 0.3960 - val_accuracy: 0.8375\n",
      "Epoch 33/150\n",
      "320/320 [==============================] - 1s 3ms/step - loss: 0.3921 - accuracy: 0.8389 - val_loss: 0.3939 - val_accuracy: 0.8435\n",
      "Epoch 34/150\n",
      "320/320 [==============================] - 1s 3ms/step - loss: 0.3917 - accuracy: 0.8385 - val_loss: 0.3950 - val_accuracy: 0.8420\n",
      "Epoch 35/150\n",
      "320/320 [==============================] - 1s 3ms/step - loss: 0.3924 - accuracy: 0.8389 - val_loss: 0.3930 - val_accuracy: 0.8435\n",
      "Epoch 36/150\n",
      "320/320 [==============================] - 1s 2ms/step - loss: 0.3918 - accuracy: 0.8403 - val_loss: 0.3942 - val_accuracy: 0.8405\n",
      "Epoch 37/150\n",
      "320/320 [==============================] - 1s 2ms/step - loss: 0.3920 - accuracy: 0.8409 - val_loss: 0.3952 - val_accuracy: 0.8420\n",
      "Epoch 38/150\n",
      "320/320 [==============================] - 1s 2ms/step - loss: 0.3920 - accuracy: 0.8407 - val_loss: 0.3939 - val_accuracy: 0.8420\n",
      "Epoch 39/150\n",
      "320/320 [==============================] - 1s 2ms/step - loss: 0.3919 - accuracy: 0.8395 - val_loss: 0.3948 - val_accuracy: 0.8415\n",
      "Epoch 40/150\n",
      "320/320 [==============================] - 1s 4ms/step - loss: 0.3913 - accuracy: 0.8395 - val_loss: 0.3945 - val_accuracy: 0.8435\n",
      "Epoch 41/150\n",
      "320/320 [==============================] - 1s 2ms/step - loss: 0.3917 - accuracy: 0.8419 - val_loss: 0.3934 - val_accuracy: 0.8435\n",
      "Epoch 42/150\n",
      "320/320 [==============================] - 1s 3ms/step - loss: 0.3910 - accuracy: 0.8409 - val_loss: 0.3954 - val_accuracy: 0.8425\n",
      "Epoch 43/150\n",
      "320/320 [==============================] - 1s 3ms/step - loss: 0.3909 - accuracy: 0.8407 - val_loss: 0.3959 - val_accuracy: 0.8430\n",
      "Epoch 44/150\n",
      "320/320 [==============================] - 1s 3ms/step - loss: 0.3911 - accuracy: 0.8410 - val_loss: 0.3941 - val_accuracy: 0.8430\n",
      "Epoch 45/150\n",
      "320/320 [==============================] - 1s 3ms/step - loss: 0.3908 - accuracy: 0.8391 - val_loss: 0.3946 - val_accuracy: 0.8450\n",
      "Epoch 46/150\n",
      "320/320 [==============================] - 1s 3ms/step - loss: 0.3906 - accuracy: 0.8393 - val_loss: 0.3961 - val_accuracy: 0.8435\n",
      "Epoch 47/150\n",
      "320/320 [==============================] - 1s 2ms/step - loss: 0.3910 - accuracy: 0.8405 - val_loss: 0.3968 - val_accuracy: 0.8430\n",
      "Epoch 48/150\n",
      "320/320 [==============================] - 1s 2ms/step - loss: 0.3902 - accuracy: 0.8409 - val_loss: 0.3952 - val_accuracy: 0.8445\n",
      "Epoch 49/150\n",
      "320/320 [==============================] - 1s 3ms/step - loss: 0.3902 - accuracy: 0.8407 - val_loss: 0.3938 - val_accuracy: 0.8455\n",
      "Epoch 50/150\n",
      "320/320 [==============================] - 1s 2ms/step - loss: 0.3900 - accuracy: 0.8391 - val_loss: 0.3950 - val_accuracy: 0.8445\n",
      "Epoch 51/150\n",
      "320/320 [==============================] - 1s 3ms/step - loss: 0.3902 - accuracy: 0.8405 - val_loss: 0.3936 - val_accuracy: 0.8470\n",
      "Epoch 52/150\n",
      "320/320 [==============================] - 1s 2ms/step - loss: 0.3900 - accuracy: 0.8414 - val_loss: 0.3935 - val_accuracy: 0.8470\n",
      "Epoch 53/150\n",
      "320/320 [==============================] - 1s 2ms/step - loss: 0.3896 - accuracy: 0.8409 - val_loss: 0.3945 - val_accuracy: 0.8420\n",
      "Epoch 54/150\n",
      "320/320 [==============================] - 1s 3ms/step - loss: 0.3890 - accuracy: 0.8420 - val_loss: 0.3968 - val_accuracy: 0.8435\n",
      "Epoch 55/150\n",
      "320/320 [==============================] - 1s 3ms/step - loss: 0.3895 - accuracy: 0.8406 - val_loss: 0.3955 - val_accuracy: 0.8430\n",
      "Epoch 56/150\n",
      "320/320 [==============================] - 1s 3ms/step - loss: 0.3889 - accuracy: 0.8422 - val_loss: 0.3955 - val_accuracy: 0.8420\n",
      "Epoch 57/150\n",
      "320/320 [==============================] - 1s 3ms/step - loss: 0.3890 - accuracy: 0.8425 - val_loss: 0.3950 - val_accuracy: 0.8445\n"
     ]
    },
    {
     "name": "stdout",
     "output_type": "stream",
     "text": [
      "Epoch 58/150\n",
      "320/320 [==============================] - 1s 2ms/step - loss: 0.3881 - accuracy: 0.8404 - val_loss: 0.3965 - val_accuracy: 0.8430\n",
      "Epoch 59/150\n",
      "320/320 [==============================] - 1s 2ms/step - loss: 0.3884 - accuracy: 0.8428 - val_loss: 0.3955 - val_accuracy: 0.8415\n",
      "Epoch 60/150\n",
      "320/320 [==============================] - 1s 2ms/step - loss: 0.3877 - accuracy: 0.8420 - val_loss: 0.3947 - val_accuracy: 0.8435\n",
      "Epoch 61/150\n",
      "320/320 [==============================] - 1s 3ms/step - loss: 0.3879 - accuracy: 0.8424 - val_loss: 0.3945 - val_accuracy: 0.8435\n",
      "Epoch 62/150\n",
      "320/320 [==============================] - 1s 3ms/step - loss: 0.3865 - accuracy: 0.8432 - val_loss: 0.3982 - val_accuracy: 0.8440\n",
      "Epoch 63/150\n",
      "320/320 [==============================] - 1s 2ms/step - loss: 0.3869 - accuracy: 0.8415 - val_loss: 0.3952 - val_accuracy: 0.8435\n",
      "Epoch 64/150\n",
      "320/320 [==============================] - 1s 2ms/step - loss: 0.3861 - accuracy: 0.8422 - val_loss: 0.3950 - val_accuracy: 0.8405\n",
      "Epoch 65/150\n",
      "320/320 [==============================] - 1s 2ms/step - loss: 0.3852 - accuracy: 0.8424 - val_loss: 0.3937 - val_accuracy: 0.8435\n",
      "Epoch 66/150\n",
      "320/320 [==============================] - 1s 2ms/step - loss: 0.3850 - accuracy: 0.8424 - val_loss: 0.3949 - val_accuracy: 0.8425\n",
      "Epoch 67/150\n",
      "320/320 [==============================] - 1s 2ms/step - loss: 0.3842 - accuracy: 0.8446 - val_loss: 0.3920 - val_accuracy: 0.8430\n",
      "Epoch 68/150\n",
      "320/320 [==============================] - 1s 3ms/step - loss: 0.3828 - accuracy: 0.8446 - val_loss: 0.3926 - val_accuracy: 0.8410\n",
      "Epoch 69/150\n",
      "320/320 [==============================] - 1s 2ms/step - loss: 0.3818 - accuracy: 0.8444 - val_loss: 0.3925 - val_accuracy: 0.8435\n",
      "Epoch 70/150\n",
      "320/320 [==============================] - 1s 2ms/step - loss: 0.3820 - accuracy: 0.8450 - val_loss: 0.3912 - val_accuracy: 0.8420\n",
      "Epoch 71/150\n",
      "320/320 [==============================] - 1s 2ms/step - loss: 0.3815 - accuracy: 0.8455 - val_loss: 0.3906 - val_accuracy: 0.8405\n",
      "Epoch 72/150\n",
      "320/320 [==============================] - 1s 2ms/step - loss: 0.3806 - accuracy: 0.8457 - val_loss: 0.3916 - val_accuracy: 0.8360\n",
      "Epoch 73/150\n",
      "320/320 [==============================] - 1s 2ms/step - loss: 0.3790 - accuracy: 0.8474 - val_loss: 0.3900 - val_accuracy: 0.8395\n",
      "Epoch 74/150\n",
      "320/320 [==============================] - 1s 3ms/step - loss: 0.3778 - accuracy: 0.8464 - val_loss: 0.3902 - val_accuracy: 0.8440\n",
      "Epoch 75/150\n",
      "320/320 [==============================] - 1s 2ms/step - loss: 0.3770 - accuracy: 0.8446 - val_loss: 0.3852 - val_accuracy: 0.8415\n",
      "Epoch 76/150\n",
      "320/320 [==============================] - 1s 2ms/step - loss: 0.3741 - accuracy: 0.8457 - val_loss: 0.3824 - val_accuracy: 0.8385\n",
      "Epoch 77/150\n",
      "320/320 [==============================] - 1s 2ms/step - loss: 0.3709 - accuracy: 0.8470 - val_loss: 0.3815 - val_accuracy: 0.8370\n",
      "Epoch 78/150\n",
      "320/320 [==============================] - 1s 2ms/step - loss: 0.3680 - accuracy: 0.8466 - val_loss: 0.3758 - val_accuracy: 0.8395\n",
      "Epoch 79/150\n",
      "320/320 [==============================] - 1s 2ms/step - loss: 0.3636 - accuracy: 0.8486 - val_loss: 0.3726 - val_accuracy: 0.8385\n",
      "Epoch 80/150\n",
      "320/320 [==============================] - 1s 2ms/step - loss: 0.3592 - accuracy: 0.8500 - val_loss: 0.3691 - val_accuracy: 0.8410\n",
      "Epoch 81/150\n",
      "320/320 [==============================] - 1s 3ms/step - loss: 0.3550 - accuracy: 0.8521 - val_loss: 0.3592 - val_accuracy: 0.8495\n",
      "Epoch 82/150\n",
      "320/320 [==============================] - 1s 2ms/step - loss: 0.3508 - accuracy: 0.8528 - val_loss: 0.3576 - val_accuracy: 0.8565\n",
      "Epoch 83/150\n",
      "320/320 [==============================] - 1s 3ms/step - loss: 0.3473 - accuracy: 0.8551 - val_loss: 0.3504 - val_accuracy: 0.8585\n",
      "Epoch 84/150\n",
      "320/320 [==============================] - 1s 3ms/step - loss: 0.3436 - accuracy: 0.8581 - val_loss: 0.3533 - val_accuracy: 0.8500\n",
      "Epoch 85/150\n",
      "320/320 [==============================] - 1s 2ms/step - loss: 0.3406 - accuracy: 0.8595 - val_loss: 0.3481 - val_accuracy: 0.8580\n",
      "Epoch 86/150\n",
      "320/320 [==============================] - 1s 2ms/step - loss: 0.3380 - accuracy: 0.8608 - val_loss: 0.3466 - val_accuracy: 0.8560\n",
      "Epoch 87/150\n",
      "320/320 [==============================] - 1s 2ms/step - loss: 0.3355 - accuracy: 0.8609 - val_loss: 0.3441 - val_accuracy: 0.8545\n",
      "Epoch 88/150\n",
      "320/320 [==============================] - 1s 3ms/step - loss: 0.3333 - accuracy: 0.8630 - val_loss: 0.3409 - val_accuracy: 0.8600\n",
      "Epoch 89/150\n",
      "320/320 [==============================] - 1s 2ms/step - loss: 0.3310 - accuracy: 0.8636 - val_loss: 0.3388 - val_accuracy: 0.8575\n",
      "Epoch 90/150\n",
      "320/320 [==============================] - 1s 3ms/step - loss: 0.3292 - accuracy: 0.8630 - val_loss: 0.3384 - val_accuracy: 0.8615\n",
      "Epoch 91/150\n",
      "320/320 [==============================] - 1s 2ms/step - loss: 0.3275 - accuracy: 0.8646 - val_loss: 0.3376 - val_accuracy: 0.8620\n",
      "Epoch 92/150\n",
      "320/320 [==============================] - 1s 3ms/step - loss: 0.3280 - accuracy: 0.8662 - val_loss: 0.3384 - val_accuracy: 0.8610\n",
      "Epoch 93/150\n",
      "320/320 [==============================] - 1s 3ms/step - loss: 0.3263 - accuracy: 0.8660 - val_loss: 0.3374 - val_accuracy: 0.8625\n",
      "Epoch 94/150\n",
      "320/320 [==============================] - 1s 2ms/step - loss: 0.3256 - accuracy: 0.8656 - val_loss: 0.3379 - val_accuracy: 0.8670\n",
      "Epoch 95/150\n",
      "320/320 [==============================] - 1s 3ms/step - loss: 0.3250 - accuracy: 0.8676 - val_loss: 0.3371 - val_accuracy: 0.8580\n",
      "Epoch 96/150\n",
      "320/320 [==============================] - 1s 2ms/step - loss: 0.3245 - accuracy: 0.8669 - val_loss: 0.3371 - val_accuracy: 0.8605\n",
      "Epoch 97/150\n",
      "320/320 [==============================] - 1s 2ms/step - loss: 0.3236 - accuracy: 0.8677 - val_loss: 0.3353 - val_accuracy: 0.8645\n",
      "Epoch 98/150\n",
      "320/320 [==============================] - 1s 3ms/step - loss: 0.3230 - accuracy: 0.8671 - val_loss: 0.3366 - val_accuracy: 0.8620\n",
      "Epoch 99/150\n",
      "320/320 [==============================] - 1s 3ms/step - loss: 0.3222 - accuracy: 0.8699 - val_loss: 0.3391 - val_accuracy: 0.8580\n",
      "Epoch 100/150\n",
      "320/320 [==============================] - 1s 2ms/step - loss: 0.3226 - accuracy: 0.8689 - val_loss: 0.3362 - val_accuracy: 0.8625\n",
      "Epoch 101/150\n",
      "320/320 [==============================] - 1s 2ms/step - loss: 0.3215 - accuracy: 0.8695 - val_loss: 0.3415 - val_accuracy: 0.8530\n",
      "Epoch 102/150\n",
      "320/320 [==============================] - 1s 2ms/step - loss: 0.3207 - accuracy: 0.8696 - val_loss: 0.3366 - val_accuracy: 0.8655\n",
      "Epoch 103/150\n",
      "320/320 [==============================] - 1s 3ms/step - loss: 0.3212 - accuracy: 0.8686 - val_loss: 0.3389 - val_accuracy: 0.8595\n",
      "Epoch 104/150\n",
      "320/320 [==============================] - 1s 3ms/step - loss: 0.3210 - accuracy: 0.8689 - val_loss: 0.3351 - val_accuracy: 0.8620\n",
      "Epoch 105/150\n",
      "320/320 [==============================] - 1s 2ms/step - loss: 0.3215 - accuracy: 0.8690 - val_loss: 0.3352 - val_accuracy: 0.8645\n",
      "Epoch 106/150\n",
      "320/320 [==============================] - 1s 2ms/step - loss: 0.3203 - accuracy: 0.8694 - val_loss: 0.3379 - val_accuracy: 0.8630\n",
      "Epoch 107/150\n",
      "320/320 [==============================] - 1s 3ms/step - loss: 0.3201 - accuracy: 0.8687 - val_loss: 0.3379 - val_accuracy: 0.8595\n",
      "Epoch 108/150\n",
      "320/320 [==============================] - 1s 3ms/step - loss: 0.3197 - accuracy: 0.8700 - val_loss: 0.3362 - val_accuracy: 0.8640\n",
      "Epoch 109/150\n",
      "320/320 [==============================] - 1s 3ms/step - loss: 0.3192 - accuracy: 0.8700 - val_loss: 0.3417 - val_accuracy: 0.8540\n",
      "Epoch 110/150\n",
      "320/320 [==============================] - 1s 3ms/step - loss: 0.3201 - accuracy: 0.8712 - val_loss: 0.3391 - val_accuracy: 0.8615\n",
      "Epoch 111/150\n",
      "320/320 [==============================] - 1s 3ms/step - loss: 0.3198 - accuracy: 0.8720 - val_loss: 0.3403 - val_accuracy: 0.8555\n",
      "Epoch 112/150\n",
      "320/320 [==============================] - 1s 3ms/step - loss: 0.3192 - accuracy: 0.8717 - val_loss: 0.3379 - val_accuracy: 0.8595\n",
      "Epoch 113/150\n",
      "320/320 [==============================] - 1s 3ms/step - loss: 0.3188 - accuracy: 0.8698 - val_loss: 0.3402 - val_accuracy: 0.8655\n",
      "Epoch 114/150\n",
      "320/320 [==============================] - 1s 3ms/step - loss: 0.3195 - accuracy: 0.8700 - val_loss: 0.3368 - val_accuracy: 0.8630\n"
     ]
    },
    {
     "name": "stdout",
     "output_type": "stream",
     "text": [
      "Epoch 115/150\n",
      "320/320 [==============================] - 1s 2ms/step - loss: 0.3183 - accuracy: 0.8729 - val_loss: 0.3361 - val_accuracy: 0.8700\n",
      "Epoch 116/150\n",
      "320/320 [==============================] - 1s 2ms/step - loss: 0.3177 - accuracy: 0.8712 - val_loss: 0.3374 - val_accuracy: 0.8665\n",
      "Epoch 117/150\n",
      "320/320 [==============================] - 1s 2ms/step - loss: 0.3186 - accuracy: 0.8737 - val_loss: 0.3381 - val_accuracy: 0.8640\n",
      "Epoch 118/150\n",
      "320/320 [==============================] - 1s 3ms/step - loss: 0.3183 - accuracy: 0.8720 - val_loss: 0.3374 - val_accuracy: 0.8655\n",
      "Epoch 119/150\n",
      "320/320 [==============================] - 1s 2ms/step - loss: 0.3181 - accuracy: 0.8731 - val_loss: 0.3385 - val_accuracy: 0.8635\n",
      "Epoch 120/150\n",
      "320/320 [==============================] - 1s 2ms/step - loss: 0.3187 - accuracy: 0.8709 - val_loss: 0.3388 - val_accuracy: 0.8630\n",
      "Epoch 121/150\n",
      "320/320 [==============================] - 1s 2ms/step - loss: 0.3181 - accuracy: 0.8723 - val_loss: 0.3382 - val_accuracy: 0.8645\n",
      "Epoch 122/150\n",
      "320/320 [==============================] - 1s 3ms/step - loss: 0.3178 - accuracy: 0.8717 - val_loss: 0.3377 - val_accuracy: 0.8600\n",
      "Epoch 123/150\n",
      "320/320 [==============================] - 1s 2ms/step - loss: 0.3187 - accuracy: 0.8710 - val_loss: 0.3359 - val_accuracy: 0.8610\n",
      "Epoch 124/150\n",
      "320/320 [==============================] - 1s 3ms/step - loss: 0.3175 - accuracy: 0.8709 - val_loss: 0.3354 - val_accuracy: 0.8610\n",
      "Epoch 125/150\n",
      "320/320 [==============================] - 1s 2ms/step - loss: 0.3176 - accuracy: 0.8740 - val_loss: 0.3375 - val_accuracy: 0.8635\n",
      "Epoch 126/150\n",
      "320/320 [==============================] - 1s 2ms/step - loss: 0.3174 - accuracy: 0.8739 - val_loss: 0.3361 - val_accuracy: 0.8650\n",
      "Epoch 127/150\n",
      "320/320 [==============================] - 1s 2ms/step - loss: 0.3175 - accuracy: 0.8729 - val_loss: 0.3386 - val_accuracy: 0.8635\n",
      "Epoch 128/150\n",
      "320/320 [==============================] - 1s 2ms/step - loss: 0.3173 - accuracy: 0.8712 - val_loss: 0.3399 - val_accuracy: 0.8650\n",
      "Epoch 129/150\n",
      "320/320 [==============================] - 1s 2ms/step - loss: 0.3176 - accuracy: 0.8701 - val_loss: 0.3379 - val_accuracy: 0.8645\n",
      "Epoch 130/150\n",
      "320/320 [==============================] - 1s 2ms/step - loss: 0.3175 - accuracy: 0.8731 - val_loss: 0.3375 - val_accuracy: 0.8610\n",
      "Epoch 131/150\n",
      "320/320 [==============================] - 1s 2ms/step - loss: 0.3174 - accuracy: 0.8726 - val_loss: 0.3367 - val_accuracy: 0.8650\n",
      "Epoch 132/150\n",
      "320/320 [==============================] - 1s 3ms/step - loss: 0.3176 - accuracy: 0.8699 - val_loss: 0.3384 - val_accuracy: 0.8575\n",
      "Epoch 133/150\n",
      "320/320 [==============================] - 1s 2ms/step - loss: 0.3176 - accuracy: 0.8719 - val_loss: 0.3365 - val_accuracy: 0.8670\n",
      "Epoch 134/150\n",
      "320/320 [==============================] - 1s 2ms/step - loss: 0.3165 - accuracy: 0.8727 - val_loss: 0.3356 - val_accuracy: 0.8645\n",
      "Epoch 135/150\n",
      "320/320 [==============================] - 1s 2ms/step - loss: 0.3168 - accuracy: 0.8723 - val_loss: 0.3346 - val_accuracy: 0.8675\n",
      "Epoch 136/150\n",
      "320/320 [==============================] - 1s 3ms/step - loss: 0.3171 - accuracy: 0.8706 - val_loss: 0.3374 - val_accuracy: 0.8675\n",
      "Epoch 137/150\n",
      "320/320 [==============================] - 1s 2ms/step - loss: 0.3173 - accuracy: 0.8714 - val_loss: 0.3409 - val_accuracy: 0.8555\n",
      "Epoch 138/150\n",
      "320/320 [==============================] - 1s 3ms/step - loss: 0.3165 - accuracy: 0.8733 - val_loss: 0.3395 - val_accuracy: 0.8640\n",
      "Epoch 139/150\n",
      "320/320 [==============================] - 1s 2ms/step - loss: 0.3166 - accuracy: 0.8719 - val_loss: 0.3370 - val_accuracy: 0.8670\n",
      "Epoch 140/150\n",
      "320/320 [==============================] - 1s 2ms/step - loss: 0.3167 - accuracy: 0.8733 - val_loss: 0.3377 - val_accuracy: 0.8650\n",
      "Epoch 141/150\n",
      "320/320 [==============================] - 1s 2ms/step - loss: 0.3163 - accuracy: 0.8736 - val_loss: 0.3418 - val_accuracy: 0.8655\n",
      "Epoch 142/150\n",
      "320/320 [==============================] - 1s 3ms/step - loss: 0.3170 - accuracy: 0.8741 - val_loss: 0.3382 - val_accuracy: 0.8675\n",
      "Epoch 143/150\n",
      "320/320 [==============================] - 1s 3ms/step - loss: 0.3173 - accuracy: 0.8726 - val_loss: 0.3388 - val_accuracy: 0.8630\n",
      "Epoch 144/150\n",
      "320/320 [==============================] - 1s 3ms/step - loss: 0.3163 - accuracy: 0.8737 - val_loss: 0.3384 - val_accuracy: 0.8655\n",
      "Epoch 145/150\n",
      "320/320 [==============================] - 1s 2ms/step - loss: 0.3160 - accuracy: 0.8735 - val_loss: 0.3395 - val_accuracy: 0.8665\n",
      "Epoch 146/150\n",
      "320/320 [==============================] - 1s 3ms/step - loss: 0.3161 - accuracy: 0.8734 - val_loss: 0.3402 - val_accuracy: 0.8560\n",
      "Epoch 147/150\n",
      "320/320 [==============================] - 1s 3ms/step - loss: 0.3171 - accuracy: 0.8712 - val_loss: 0.3389 - val_accuracy: 0.8610\n",
      "Epoch 148/150\n",
      "320/320 [==============================] - 1s 2ms/step - loss: 0.3163 - accuracy: 0.8731 - val_loss: 0.3404 - val_accuracy: 0.8565\n",
      "Epoch 149/150\n",
      "320/320 [==============================] - 1s 3ms/step - loss: 0.3162 - accuracy: 0.8748 - val_loss: 0.3388 - val_accuracy: 0.8675\n",
      "Epoch 150/150\n",
      "320/320 [==============================] - 1s 2ms/step - loss: 0.3158 - accuracy: 0.8727 - val_loss: 0.3433 - val_accuracy: 0.8655\n"
     ]
    },
    {
     "data": {
      "text/plain": [
       "<keras.callbacks.History at 0x1c09b348700>"
      ]
     },
     "execution_count": 46,
     "metadata": {},
     "output_type": "execute_result"
    }
   ],
   "source": [
    "\n",
    "rms_model.add(Dense(units=16,kernel_initializer='uniform',activation='relu',input_dim=11))\n",
    "rms_model.add(Dense(units = 16,kernel_initializer='uniform',activation='relu'))\n",
    "rms_model.add(Dense(units=1,kernel_initializer='uniform',activation='sigmoid'))\n",
    "rms_model.compile(optimizer='rmsprop',loss='binary_crossentropy',metrics=['accuracy'])\n",
    "rms_model.fit(x=X_train,y=y_train,batch_size=25,epochs=150,validation_data=(X_test,y_test))"
   ]
  },
  {
   "cell_type": "code",
   "execution_count": 47,
   "metadata": {},
   "outputs": [
    {
     "name": "stdout",
     "output_type": "stream",
     "text": [
      "63/63 [==============================] - 0s 3ms/step - loss: 0.3433 - accuracy: 0.8655\n"
     ]
    },
    {
     "data": {
      "text/plain": [
       "[0.34325969219207764, 0.8654999732971191]"
      ]
     },
     "execution_count": 47,
     "metadata": {},
     "output_type": "execute_result"
    }
   ],
   "source": [
    "rms_model.evaluate(X_test, y_test)"
   ]
  },
  {
   "cell_type": "code",
   "execution_count": 48,
   "metadata": {},
   "outputs": [
    {
     "data": {
      "text/plain": [
       "array([[0.16287526],\n",
       "       [0.19183624],\n",
       "       [0.07459319],\n",
       "       [0.0318284 ],\n",
       "       [0.03319326]], dtype=float32)"
      ]
     },
     "execution_count": 48,
     "metadata": {},
     "output_type": "execute_result"
    }
   ],
   "source": [
    "yp = rms_model.predict(X_test)\n",
    "yp[:5]"
   ]
  },
  {
   "cell_type": "code",
   "execution_count": 49,
   "metadata": {},
   "outputs": [],
   "source": [
    "y_pred = []\n",
    "for element in yp:\n",
    "    if element > 0.5:\n",
    "        y_pred.append(1)\n",
    "    else:\n",
    "        y_pred.append(0)"
   ]
  },
  {
   "cell_type": "code",
   "execution_count": 50,
   "metadata": {},
   "outputs": [
    {
     "name": "stdout",
     "output_type": "stream",
     "text": [
      "              precision    recall  f1-score   support\n",
      "\n",
      "           0       0.87      0.97      0.92      1595\n",
      "           1       0.80      0.45      0.58       405\n",
      "\n",
      "    accuracy                           0.87      2000\n",
      "   macro avg       0.84      0.71      0.75      2000\n",
      "weighted avg       0.86      0.87      0.85      2000\n",
      "\n"
     ]
    }
   ],
   "source": [
    "from sklearn.metrics import confusion_matrix , classification_report\n",
    "\n",
    "print(classification_report(y_test,y_pred))"
   ]
  },
  {
   "cell_type": "code",
   "execution_count": 51,
   "metadata": {},
   "outputs": [
    {
     "data": {
      "text/plain": [
       "Text(69.0, 0.5, 'Truth')"
      ]
     },
     "execution_count": 51,
     "metadata": {},
     "output_type": "execute_result"
    },
    {
     "data": {
      "image/png": "[encoded data removed]",
      "text/plain": [
       "<Figure size 720x504 with 2 Axes>"
      ]
     },
     "metadata": {
      "needs_background": "light"
     },
     "output_type": "display_data"
    }
   ],
   "source": [
    "import seaborn as sn\n",
    "cm = tf.math.confusion_matrix(labels=y_test,predictions=y_pred)\n",
    "\n",
    "plt.figure(figsize = (10,7))\n",
    "sn.heatmap(cm, annot=True, fmt='d')\n",
    "plt.xlabel('Predicted')\n",
    "plt.ylabel('Truth')"
   ]
  }
 ],
 "metadata": {
  "colab": {
   "collapsed_sections": [],
   "name": "customer_Churn_prediction_using_ANN.ipynb",
   "provenance": []
  },
  "kernelspec": {
   "display_name": "Python 3",
   "language": "python",
   "name": "python3"
  },
  "language_info": {
   "codemirror_mode": {
    "name": "ipython",
    "version": 3
   },
   "file_extension": ".py",
   "mimetype": "text/x-python",
   "name": "python",
   "nbconvert_exporter": "python",
   "pygments_lexer": "ipython3",
   "version": "3.8.8"
  }
 },
 "nbformat": 4,
 "nbformat_minor": 1
}
